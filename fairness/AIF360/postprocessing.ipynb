{
 "cells": [
  {
   "cell_type": "markdown",
   "source": [
    "# AIF360 Inprocessing bias Mitigation with sklearn-compatible interface"
   ],
   "metadata": {
    "collapsed": false
   }
  },
  {
   "cell_type": "code",
   "execution_count": 1,
   "outputs": [
    {
     "name": "stderr",
     "output_type": "stream",
     "text": [
      "WARNING:root:\n",
      "`load_boston` has been removed from scikit-learn since version 1.2.\n",
      "\n",
      "The Boston housing prices dataset has an ethical problem: as\n",
      "investigated in [1], the authors of this dataset engineered a\n",
      "non-invertible variable \"B\" assuming that racial self-segregation had a\n",
      "positive impact on house prices [2]. Furthermore the goal of the\n",
      "research that led to the creation of this dataset was to study the\n",
      "impact of air quality but it did not give adequate demonstration of the\n",
      "validity of this assumption.\n",
      "\n",
      "The scikit-learn maintainers therefore strongly discourage the use of\n",
      "this dataset unless the purpose of the code is to study and educate\n",
      "about ethical issues in data science and machine learning.\n",
      "\n",
      "In this special case, you can fetch the dataset from the original\n",
      "source::\n",
      "\n",
      "    import pandas as pd\n",
      "    import numpy as np\n",
      "\n",
      "    data_url = \"http://lib.stat.cmu.edu/datasets/boston\"\n",
      "    raw_df = pd.read_csv(data_url, sep=\"\\s+\", skiprows=22, header=None)\n",
      "    data = np.hstack([raw_df.values[::2, :], raw_df.values[1::2, :2]])\n",
      "    target = raw_df.values[1::2, 2]\n",
      "\n",
      "Alternative datasets include the California housing dataset and the\n",
      "Ames housing dataset. You can load the datasets as follows::\n",
      "\n",
      "    from sklearn.datasets import fetch_california_housing\n",
      "    housing = fetch_california_housing()\n",
      "\n",
      "for the California housing dataset and::\n",
      "\n",
      "    from sklearn.datasets import fetch_openml\n",
      "    housing = fetch_openml(name=\"house_prices\", as_frame=True)\n",
      "\n",
      "for the Ames housing dataset.\n",
      "\n",
      "[1] M Carlisle.\n",
      "\"Racist data destruction?\"\n",
      "<https://medium.com/@docintangible/racist-data-destruction-113e3eff54a8>\n",
      "\n",
      "[2] Harrison Jr, David, and Daniel L. Rubinfeld.\n",
      "\"Hedonic housing prices and the demand for clean air.\"\n",
      "Journal of environmental economics and management 5.1 (1978): 81-102.\n",
      "<https://www.researchgate.net/publication/4974606_Hedonic_housing_prices_and_the_demand_for_clean_air>\n",
      ": fetch_lawschool_gpa will be unavailable. To install, run:\n",
      "pip install 'aif360[LawSchoolGPA]'\n"
     ]
    }
   ],
   "source": [
    "%matplotlib inline\n",
    "import pandas as pd\n",
    "from sklearn.linear_model import LogisticRegression\n",
    "from sklearn.model_selection import train_test_split\n",
    "from sklearn.preprocessing import OneHotEncoder\n",
    "from sklearn.compose import make_column_transformer\n",
    "from aif360.sklearn.postprocessing import RejectOptionClassifierCV, PostProcessingMeta\n",
    "from aif360.sklearn.datasets import fetch_adult\n",
    "from sklearn.metrics import accuracy_score\n",
    "from aif360.sklearn.metrics import equal_opportunity_difference\n",
    "from aif360.sklearn.postprocessing import CalibratedEqualizedOdds\n",
    "from catboost import CatBoostClassifier, Pool\n",
    "import numpy as np"
   ],
   "metadata": {
    "collapsed": false
   }
  },
  {
   "cell_type": "markdown",
   "source": [
    "## 1. Load data"
   ],
   "metadata": {
    "collapsed": false
   }
  },
  {
   "cell_type": "code",
   "execution_count": 2,
   "outputs": [
    {
     "name": "stderr",
     "output_type": "stream",
     "text": [
      "/Users/claudia/repositories/datascience-explained/venv/lib/python3.10/site-packages/sklearn/datasets/_openml.py:968: FutureWarning: The default value of `parser` will change from `'liac-arff'` to `'auto'` in 1.4. You can set `parser='auto'` to silence this warning. Therefore, an `ImportError` will be raised from 1.4 if the dataset is dense and pandas is not installed. Note that the pandas parser may return different data types. See the Notes Section in fetch_openml's API doc for details.\n",
      "  warn(\n"
     ]
    },
    {
     "name": "stdout",
     "output_type": "stream",
     "text": [
      "                 age  workclass     education  education-num  \\\n",
      "race      sex                                                  \n",
      "Non-white Male  25.0    Private          11th            7.0   \n",
      "White     Male  38.0    Private       HS-grad            9.0   \n",
      "          Male  28.0  Local-gov    Assoc-acdm           12.0   \n",
      "Non-white Male  44.0    Private  Some-college           10.0   \n",
      "White     Male  34.0    Private          10th            6.0   \n",
      "\n",
      "                    marital-status         occupation   relationship   race  \\\n",
      "race      sex                                                                 \n",
      "Non-white Male       Never-married  Machine-op-inspct      Own-child  Black   \n",
      "White     Male  Married-civ-spouse    Farming-fishing        Husband  White   \n",
      "          Male  Married-civ-spouse    Protective-serv        Husband  White   \n",
      "Non-white Male  Married-civ-spouse  Machine-op-inspct        Husband  Black   \n",
      "White     Male       Never-married      Other-service  Not-in-family  White   \n",
      "\n",
      "                 sex  capital-gain  capital-loss  hours-per-week  \\\n",
      "race      sex                                                      \n",
      "Non-white Male  Male           0.0           0.0            40.0   \n",
      "White     Male  Male           0.0           0.0            50.0   \n",
      "          Male  Male           0.0           0.0            40.0   \n",
      "Non-white Male  Male        7688.0           0.0            40.0   \n",
      "White     Male  Male           0.0           0.0            30.0   \n",
      "\n",
      "               native-country  \n",
      "race      sex                  \n",
      "Non-white Male  United-States  \n",
      "White     Male  United-States  \n",
      "          Male  United-States  \n",
      "Non-white Male  United-States  \n",
      "White     Male  United-States  \n"
     ]
    }
   ],
   "source": [
    "X, y, sample_weight = fetch_adult()\n",
    "print(X.head())"
   ],
   "metadata": {
    "collapsed": false
   }
  },
  {
   "cell_type": "code",
   "execution_count": 3,
   "outputs": [
    {
     "name": "stdout",
     "output_type": "stream",
     "text": [
      "Dataset dimensions: (45222, 13)\n"
     ]
    }
   ],
   "source": [
    "print(f\"Dataset dimensions: {X.shape}\")"
   ],
   "metadata": {
    "collapsed": false
   }
  },
  {
   "cell_type": "markdown",
   "source": [
    "## 2. Preprocessing"
   ],
   "metadata": {
    "collapsed": false
   }
  },
  {
   "cell_type": "markdown",
   "source": [
    "Group multiple categories for race into white and non-white."
   ],
   "metadata": {
    "collapsed": false
   }
  },
  {
   "cell_type": "code",
   "execution_count": 4,
   "outputs": [],
   "source": [
    "X.race = X.race.cat.set_categories(['Non-white', 'White'], ordered=True).fillna('Non-white')"
   ],
   "metadata": {
    "collapsed": false
   }
  },
  {
   "cell_type": "markdown",
   "source": [
    "Set index and label as integers."
   ],
   "metadata": {
    "collapsed": false
   }
  },
  {
   "cell_type": "code",
   "execution_count": 5,
   "outputs": [],
   "source": [
    "X.index = pd.MultiIndex.from_arrays(X.index.codes, names=X.index.names)\n",
    "y.index = pd.MultiIndex.from_arrays(y.index.codes, names=y.index.names)\n",
    "y = pd.Series(y.factorize(sort=True)[0], index=y.index)"
   ],
   "metadata": {
    "collapsed": false
   }
  },
  {
   "cell_type": "markdown",
   "source": [
    "Split into train and test"
   ],
   "metadata": {
    "collapsed": false
   }
  },
  {
   "cell_type": "code",
   "execution_count": 6,
   "outputs": [],
   "source": [
    "(X_train, X_test,\n",
    " y_train, y_test) = train_test_split(X, y, train_size=0.7)"
   ],
   "metadata": {
    "collapsed": false
   }
  },
  {
   "cell_type": "markdown",
   "source": [
    "Transform categories into one hot encoding"
   ],
   "metadata": {
    "collapsed": false
   }
  },
  {
   "cell_type": "code",
   "execution_count": 7,
   "outputs": [
    {
     "name": "stderr",
     "output_type": "stream",
     "text": [
      "/Users/claudia/repositories/datascience-explained/venv/lib/python3.10/site-packages/sklearn/preprocessing/_encoders.py:868: FutureWarning: `sparse` was renamed to `sparse_output` in version 1.2 and will be removed in 1.4. `sparse_output` is ignored unless you leave `sparse` to its default value.\n",
      "  warnings.warn(\n"
     ]
    },
    {
     "data": {
      "text/plain": "          workclass_Federal-gov  workclass_Local-gov  workclass_Private  \\\nrace sex                                                                  \n1    1                      0.0                  0.0                1.0   \n     1                      0.0                  0.0                1.0   \n     1                      0.0                  0.0                1.0   \n     1                      0.0                  0.0                1.0   \n     0                      0.0                  0.0                1.0   \n\n          workclass_Self-emp-inc  workclass_Self-emp-not-inc  \\\nrace sex                                                       \n1    1                       0.0                         0.0   \n     1                       0.0                         0.0   \n     1                       0.0                         0.0   \n     1                       0.0                         0.0   \n     0                       0.0                         0.0   \n\n          workclass_State-gov  workclass_Without-pay  education_10th  \\\nrace sex                                                               \n1    1                    0.0                    0.0             0.0   \n     1                    0.0                    0.0             0.0   \n     1                    0.0                    0.0             0.0   \n     1                    0.0                    0.0             0.0   \n     0                    0.0                    0.0             0.0   \n\n          education_11th  education_12th  ...  native-country_Thailand  \\\nrace sex                                  ...                            \n1    1               0.0             0.0  ...                      0.0   \n     1               0.0             0.0  ...                      0.0   \n     1               0.0             0.0  ...                      0.0   \n     1               0.0             0.0  ...                      0.0   \n     0               0.0             0.0  ...                      0.0   \n\n          native-country_Trinadad&Tobago  native-country_United-States  \\\nrace sex                                                                 \n1    1                               0.0                           1.0   \n     1                               0.0                           1.0   \n     1                               0.0                           1.0   \n     1                               0.0                           1.0   \n     0                               0.0                           1.0   \n\n          native-country_Vietnam  native-country_Yugoslavia   age  \\\nrace sex                                                            \n1    1                       0.0                        0.0  58.0   \n     1                       0.0                        0.0  45.0   \n     1                       0.0                        0.0  33.0   \n     1                       0.0                        0.0  30.0   \n     0                       0.0                        0.0  47.0   \n\n          education-num  capital-gain  capital-loss  hours-per-week  \nrace sex                                                             \n1    1              9.0        3325.0           0.0            30.0  \n     1              9.0           0.0           0.0            50.0  \n     1              9.0           0.0           0.0            40.0  \n     1             10.0           0.0           0.0            40.0  \n     0              9.0           0.0           0.0            65.0  \n\n[5 rows x 99 columns]",
      "text/html": "<div>\n<style scoped>\n    .dataframe tbody tr th:only-of-type {\n        vertical-align: middle;\n    }\n\n    .dataframe tbody tr th {\n        vertical-align: top;\n    }\n\n    .dataframe thead th {\n        text-align: right;\n    }\n</style>\n<table border=\"1\" class=\"dataframe\">\n  <thead>\n    <tr style=\"text-align: right;\">\n      <th></th>\n      <th></th>\n      <th>workclass_Federal-gov</th>\n      <th>workclass_Local-gov</th>\n      <th>workclass_Private</th>\n      <th>workclass_Self-emp-inc</th>\n      <th>workclass_Self-emp-not-inc</th>\n      <th>workclass_State-gov</th>\n      <th>workclass_Without-pay</th>\n      <th>education_10th</th>\n      <th>education_11th</th>\n      <th>education_12th</th>\n      <th>...</th>\n      <th>native-country_Thailand</th>\n      <th>native-country_Trinadad&amp;Tobago</th>\n      <th>native-country_United-States</th>\n      <th>native-country_Vietnam</th>\n      <th>native-country_Yugoslavia</th>\n      <th>age</th>\n      <th>education-num</th>\n      <th>capital-gain</th>\n      <th>capital-loss</th>\n      <th>hours-per-week</th>\n    </tr>\n    <tr>\n      <th>race</th>\n      <th>sex</th>\n      <th></th>\n      <th></th>\n      <th></th>\n      <th></th>\n      <th></th>\n      <th></th>\n      <th></th>\n      <th></th>\n      <th></th>\n      <th></th>\n      <th></th>\n      <th></th>\n      <th></th>\n      <th></th>\n      <th></th>\n      <th></th>\n      <th></th>\n      <th></th>\n      <th></th>\n      <th></th>\n      <th></th>\n    </tr>\n  </thead>\n  <tbody>\n    <tr>\n      <th rowspan=\"5\" valign=\"top\">1</th>\n      <th>1</th>\n      <td>0.0</td>\n      <td>0.0</td>\n      <td>1.0</td>\n      <td>0.0</td>\n      <td>0.0</td>\n      <td>0.0</td>\n      <td>0.0</td>\n      <td>0.0</td>\n      <td>0.0</td>\n      <td>0.0</td>\n      <td>...</td>\n      <td>0.0</td>\n      <td>0.0</td>\n      <td>1.0</td>\n      <td>0.0</td>\n      <td>0.0</td>\n      <td>58.0</td>\n      <td>9.0</td>\n      <td>3325.0</td>\n      <td>0.0</td>\n      <td>30.0</td>\n    </tr>\n    <tr>\n      <th>1</th>\n      <td>0.0</td>\n      <td>0.0</td>\n      <td>1.0</td>\n      <td>0.0</td>\n      <td>0.0</td>\n      <td>0.0</td>\n      <td>0.0</td>\n      <td>0.0</td>\n      <td>0.0</td>\n      <td>0.0</td>\n      <td>...</td>\n      <td>0.0</td>\n      <td>0.0</td>\n      <td>1.0</td>\n      <td>0.0</td>\n      <td>0.0</td>\n      <td>45.0</td>\n      <td>9.0</td>\n      <td>0.0</td>\n      <td>0.0</td>\n      <td>50.0</td>\n    </tr>\n    <tr>\n      <th>1</th>\n      <td>0.0</td>\n      <td>0.0</td>\n      <td>1.0</td>\n      <td>0.0</td>\n      <td>0.0</td>\n      <td>0.0</td>\n      <td>0.0</td>\n      <td>0.0</td>\n      <td>0.0</td>\n      <td>0.0</td>\n      <td>...</td>\n      <td>0.0</td>\n      <td>0.0</td>\n      <td>1.0</td>\n      <td>0.0</td>\n      <td>0.0</td>\n      <td>33.0</td>\n      <td>9.0</td>\n      <td>0.0</td>\n      <td>0.0</td>\n      <td>40.0</td>\n    </tr>\n    <tr>\n      <th>1</th>\n      <td>0.0</td>\n      <td>0.0</td>\n      <td>1.0</td>\n      <td>0.0</td>\n      <td>0.0</td>\n      <td>0.0</td>\n      <td>0.0</td>\n      <td>0.0</td>\n      <td>0.0</td>\n      <td>0.0</td>\n      <td>...</td>\n      <td>0.0</td>\n      <td>0.0</td>\n      <td>1.0</td>\n      <td>0.0</td>\n      <td>0.0</td>\n      <td>30.0</td>\n      <td>10.0</td>\n      <td>0.0</td>\n      <td>0.0</td>\n      <td>40.0</td>\n    </tr>\n    <tr>\n      <th>0</th>\n      <td>0.0</td>\n      <td>0.0</td>\n      <td>1.0</td>\n      <td>0.0</td>\n      <td>0.0</td>\n      <td>0.0</td>\n      <td>0.0</td>\n      <td>0.0</td>\n      <td>0.0</td>\n      <td>0.0</td>\n      <td>...</td>\n      <td>0.0</td>\n      <td>0.0</td>\n      <td>1.0</td>\n      <td>0.0</td>\n      <td>0.0</td>\n      <td>47.0</td>\n      <td>9.0</td>\n      <td>0.0</td>\n      <td>0.0</td>\n      <td>65.0</td>\n    </tr>\n  </tbody>\n</table>\n<p>5 rows × 99 columns</p>\n</div>"
     },
     "execution_count": 7,
     "metadata": {},
     "output_type": "execute_result"
    }
   ],
   "source": [
    "ohe = make_column_transformer(\n",
    "        (OneHotEncoder(sparse=False, handle_unknown=\"ignore\"), X_train.dtypes == 'category'),\n",
    "        remainder='passthrough', verbose_feature_names_out=False)\n",
    "X_train  = pd.DataFrame(ohe.fit_transform(X_train), columns=ohe.get_feature_names_out(), index=X_train.index)\n",
    "X_test = pd.DataFrame(ohe.transform(X_test), columns=ohe.get_feature_names_out(), index=X_test.index)\n",
    "\n",
    "X_train.head()"
   ],
   "metadata": {
    "collapsed": false
   }
  },
  {
   "cell_type": "markdown",
   "source": [
    "## 3. Baseline model"
   ],
   "metadata": {
    "collapsed": false
   }
  },
  {
   "cell_type": "markdown",
   "source": [
    "Train baseline logistic regression"
   ],
   "metadata": {
    "collapsed": false
   }
  },
  {
   "cell_type": "code",
   "execution_count": 8,
   "outputs": [
    {
     "data": {
      "text/plain": "0.8469079383798924"
     },
     "execution_count": 8,
     "metadata": {},
     "output_type": "execute_result"
    }
   ],
   "source": [
    "baseline = LogisticRegression(solver='liblinear').fit(X_train, y_train)\n",
    "y_pred = baseline.predict(X_test)\n",
    "lr_acc = accuracy_score(y_test, y_pred)\n",
    "lr_acc"
   ],
   "metadata": {
    "collapsed": false
   }
  },
  {
   "cell_type": "markdown",
   "source": [
    "Compute equal opportunity difference."
   ],
   "metadata": {
    "collapsed": false
   }
  },
  {
   "cell_type": "code",
   "execution_count": 9,
   "outputs": [
    {
     "data": {
      "text/plain": "-0.13331794676911995"
     },
     "execution_count": 9,
     "metadata": {},
     "output_type": "execute_result"
    }
   ],
   "source": [
    "lr_eod_sex = equal_opportunity_difference(y_test, y_pred, prot_attr='sex')\n",
    "lr_eod_sex"
   ],
   "metadata": {
    "collapsed": false
   }
  },
  {
   "cell_type": "code",
   "execution_count": 10,
   "outputs": [
    {
     "data": {
      "text/plain": "-0.11868153740074927"
     },
     "execution_count": 10,
     "metadata": {},
     "output_type": "execute_result"
    }
   ],
   "source": [
    "lr_eod_race = equal_opportunity_difference(y_test, y_pred, prot_attr='race')\n",
    "lr_eod_race"
   ],
   "metadata": {
    "collapsed": false
   }
  },
  {
   "cell_type": "markdown",
   "source": [
    "We see that it is negative, for sex and race, indicating that the true positive rate is higher for white and male."
   ],
   "metadata": {
    "collapsed": false
   }
  },
  {
   "cell_type": "markdown",
   "source": [
    "## 4. Bias mitigation: RejectOptionClassifier postprocessing"
   ],
   "metadata": {
    "collapsed": false
   }
  },
  {
   "cell_type": "code",
   "execution_count": 11,
   "outputs": [
    {
     "name": "stdout",
     "output_type": "stream",
     "text": [
      "0.8074003095747033\n"
     ]
    },
    {
     "name": "stderr",
     "output_type": "stream",
     "text": [
      "/Users/claudia/repositories/datascience-explained/venv/lib/python3.10/site-packages/sklearn/utils/metaestimators.py:121: FutureWarning: if_delegate_has_method was deprecated in version 1.1 and will be removed in version 1.3. Use available_if instead.\n",
      "  warnings.warn(\n"
     ]
    }
   ],
   "source": [
    "metric = 'equal_opportunity'\n",
    "roc_cv = PostProcessingMeta(baseline,\n",
    "        RejectOptionClassifierCV('sex', scoring=metric, step=0.02, n_jobs=-1), prefit=True)\n",
    "roc_cv.fit(X_train, y_train)\n",
    "roc_cv_acc = accuracy_score(y_test, roc_cv.predict(X_test))\n",
    "print(roc_cv_acc)"
   ],
   "metadata": {
    "collapsed": false
   }
  },
  {
   "cell_type": "markdown",
   "source": [
    "There is a 5% drop in accuracy"
   ],
   "metadata": {
    "collapsed": false
   }
  },
  {
   "cell_type": "code",
   "execution_count": 12,
   "outputs": [
    {
     "name": "stderr",
     "output_type": "stream",
     "text": [
      "/Users/claudia/repositories/datascience-explained/venv/lib/python3.10/site-packages/sklearn/utils/metaestimators.py:121: FutureWarning: if_delegate_has_method was deprecated in version 1.1 and will be removed in version 1.3. Use available_if instead.\n",
      "  warnings.warn(\n"
     ]
    },
    {
     "name": "stdout",
     "output_type": "stream",
     "text": [
      "-0.11677606381179573\n"
     ]
    }
   ],
   "source": [
    "roc_cv_eod_sex = equal_opportunity_difference(y_test, roc_cv.predict(X_test), prot_attr='sex')\n",
    "print(roc_cv_eod_sex)\n",
    "\n",
    "# Check for improvement in average odds error for sex\n",
    "assert abs(roc_cv_eod_sex)<abs(lr_eod_sex)"
   ],
   "metadata": {
    "collapsed": false
   }
  },
  {
   "cell_type": "markdown",
   "source": [
    "We have mitigated up to some extent disparities for the sex variable."
   ],
   "metadata": {
    "collapsed": false
   }
  },
  {
   "cell_type": "markdown",
   "source": [
    "## 5. Bias mitigation: CalibratedEqualizedOdds postprocessing"
   ],
   "metadata": {
    "collapsed": false
   }
  },
  {
   "cell_type": "code",
   "execution_count": 13,
   "outputs": [
    {
     "name": "stdout",
     "output_type": "stream",
     "text": [
      "0.8345986585096189\n"
     ]
    },
    {
     "name": "stderr",
     "output_type": "stream",
     "text": [
      "/Users/claudia/repositories/datascience-explained/venv/lib/python3.10/site-packages/sklearn/utils/metaestimators.py:121: FutureWarning: if_delegate_has_method was deprecated in version 1.1 and will be removed in version 1.3. Use available_if instead.\n",
      "  warnings.warn(\n"
     ]
    }
   ],
   "source": [
    "ceo = PostProcessingMeta(baseline,\n",
    "        CalibratedEqualizedOdds('sex'), prefit=True)\n",
    "ceo.fit(X_train, y_train)\n",
    "ceo_acc = accuracy_score(y_test, ceo.predict(X_test))\n",
    "print(ceo_acc)"
   ],
   "metadata": {
    "collapsed": false
   }
  },
  {
   "cell_type": "markdown",
   "source": [
    "There is a 5% drop in accuracy"
   ],
   "metadata": {
    "collapsed": false
   }
  },
  {
   "cell_type": "code",
   "execution_count": 14,
   "outputs": [
    {
     "name": "stdout",
     "output_type": "stream",
     "text": [
      "-0.6170655567117586\n"
     ]
    },
    {
     "name": "stderr",
     "output_type": "stream",
     "text": [
      "/Users/claudia/repositories/datascience-explained/venv/lib/python3.10/site-packages/sklearn/utils/metaestimators.py:121: FutureWarning: if_delegate_has_method was deprecated in version 1.1 and will be removed in version 1.3. Use available_if instead.\n",
      "  warnings.warn(\n"
     ]
    },
    {
     "data": {
      "text/plain": "False"
     },
     "execution_count": 14,
     "metadata": {},
     "output_type": "execute_result"
    }
   ],
   "source": [
    "ceo_eod_sex = equal_opportunity_difference(y_test, ceo.predict(X_test), prot_attr='sex')\n",
    "print(ceo_eod_sex)\n",
    "\n",
    "# Check for improvement in average odds error for sex\n",
    "abs(ceo_eod_sex)<abs(lr_eod_sex)"
   ],
   "metadata": {
    "collapsed": false
   }
  },
  {
   "cell_type": "markdown",
   "source": [
    "This method did not reduce the equal opportunity difference, our main goal."
   ],
   "metadata": {
    "collapsed": false
   }
  },
  {
   "cell_type": "markdown",
   "source": [
    "## Bonus: Catboost classifier"
   ],
   "metadata": {
    "collapsed": false
   }
  },
  {
   "cell_type": "markdown",
   "source": [
    "We want to check if the postprocessing techniques are also working with more sophisticated ML models such as catboost."
   ],
   "metadata": {
    "collapsed": false
   }
  },
  {
   "cell_type": "code",
   "execution_count": 15,
   "outputs": [],
   "source": [
    "(X_train, X_test,\n",
    " y_train, y_test) = train_test_split(X, y, train_size=0.7)\n",
    "cat_vars = X_train.columns[np.where(X_train.dtypes == 'category')].tolist()\n",
    "train_data = Pool(data=X_train, label=y_train, cat_features=cat_vars)\n",
    "test_data = Pool(data=X_test, label=y_test, cat_features=cat_vars)"
   ],
   "metadata": {
    "collapsed": false
   }
  },
  {
   "cell_type": "markdown",
   "source": [
    "Train and evaluate basic catbooost classifier."
   ],
   "metadata": {
    "collapsed": false
   }
  },
  {
   "cell_type": "code",
   "execution_count": 16,
   "outputs": [
    {
     "name": "stdout",
     "output_type": "stream",
     "text": [
      "Learning rate set to 0.074391\n",
      "0:\tlearn: 0.6179988\ttest: 0.6194865\tbest: 0.6194865 (0)\ttotal: 130ms\tremaining: 2m 9s\n",
      "100:\tlearn: 0.2860134\ttest: 0.2988849\tbest: 0.2988849 (100)\ttotal: 8.84s\tremaining: 1m 18s\n",
      "200:\tlearn: 0.2728652\ttest: 0.2904323\tbest: 0.2904227 (199)\ttotal: 14s\tremaining: 55.7s\n",
      "300:\tlearn: 0.2662003\ttest: 0.2882387\tbest: 0.2881841 (295)\ttotal: 16.8s\tremaining: 39s\n",
      "400:\tlearn: 0.2600702\ttest: 0.2864908\tbest: 0.2864746 (399)\ttotal: 23s\tremaining: 34.4s\n",
      "500:\tlearn: 0.2552426\ttest: 0.2859744\tbest: 0.2859706 (488)\ttotal: 30.2s\tremaining: 30.1s\n",
      "600:\tlearn: 0.2508311\ttest: 0.2852974\tbest: 0.2852567 (576)\ttotal: 34.3s\tremaining: 22.8s\n",
      "700:\tlearn: 0.2472747\ttest: 0.2852944\tbest: 0.2852023 (690)\ttotal: 38.7s\tremaining: 16.5s\n",
      "800:\tlearn: 0.2436221\ttest: 0.2850722\tbest: 0.2849822 (770)\ttotal: 44.8s\tremaining: 11.1s\n",
      "900:\tlearn: 0.2405652\ttest: 0.2850172\tbest: 0.2849079 (854)\ttotal: 53.9s\tremaining: 5.92s\n",
      "Stopped by overfitting detector  (100 iterations wait)\n",
      "\n",
      "bestTest = 0.2849078829\n",
      "bestIteration = 854\n",
      "\n",
      "Shrink model to first 855 iterations.\n",
      "0.8679885015110194\n"
     ]
    }
   ],
   "source": [
    "cbc = CatBoostClassifier(\n",
    "        train_dir=None, silent=True, random_state=42\n",
    "    )\n",
    "cbc.fit(train_data, eval_set=[test_data], early_stopping_rounds=100, verbose_eval=100)\n",
    "cb_acc = cbc.score(X_test, y_test)\n",
    "y_pred = pd.Series(cbc.predict(X_test), index=y_test.index)\n",
    "print(cb_acc)"
   ],
   "metadata": {
    "collapsed": false
   }
  },
  {
   "cell_type": "code",
   "execution_count": 17,
   "outputs": [
    {
     "name": "stdout",
     "output_type": "stream",
     "text": [
      "-0.08994227727886572\n",
      "-0.13331794676911995\n"
     ]
    }
   ],
   "source": [
    "cb_eod_sex = equal_opportunity_difference(y_test, y_pred, prot_attr='sex')\n",
    "print(cb_eod_sex)\n",
    "print(lr_eod_sex)\n",
    "# Check for improvement in average odds error for sex\n",
    "assert abs(cb_eod_sex)<abs(lr_eod_sex)"
   ],
   "metadata": {
    "collapsed": false
   }
  },
  {
   "cell_type": "markdown",
   "source": [
    "Apply mitigation strategy"
   ],
   "metadata": {
    "collapsed": false
   }
  },
  {
   "cell_type": "code",
   "execution_count": 18,
   "outputs": [
    {
     "name": "stdout",
     "output_type": "stream",
     "text": [
      "0.8329770767303014\n"
     ]
    },
    {
     "name": "stderr",
     "output_type": "stream",
     "text": [
      "/Users/claudia/repositories/datascience-explained/venv/lib/python3.10/site-packages/sklearn/utils/metaestimators.py:121: FutureWarning: if_delegate_has_method was deprecated in version 1.1 and will be removed in version 1.3. Use available_if instead.\n",
      "  warnings.warn(\n"
     ]
    }
   ],
   "source": [
    "roc_cbc = PostProcessingMeta(cbc,\n",
    "        RejectOptionClassifierCV('sex', scoring=metric, step=0.02, n_jobs=-1), prefit=True)\n",
    "roc_cbc.fit(X_train, y_train)\n",
    "roc_cbc_acc = accuracy_score(y_test, roc_cbc.predict(X_test))\n",
    "print(roc_cbc_acc)"
   ],
   "metadata": {
    "collapsed": false
   }
  },
  {
   "cell_type": "code",
   "execution_count": 19,
   "outputs": [
    {
     "name": "stdout",
     "output_type": "stream",
     "text": [
      "-0.06952420915091695\n"
     ]
    },
    {
     "name": "stderr",
     "output_type": "stream",
     "text": [
      "/Users/claudia/repositories/datascience-explained/venv/lib/python3.10/site-packages/sklearn/utils/metaestimators.py:121: FutureWarning: if_delegate_has_method was deprecated in version 1.1 and will be removed in version 1.3. Use available_if instead.\n",
      "  warnings.warn(\n"
     ]
    },
    {
     "data": {
      "text/plain": "True"
     },
     "execution_count": 19,
     "metadata": {},
     "output_type": "execute_result"
    }
   ],
   "source": [
    "roc_cbc_eod_sex = equal_opportunity_difference(y_test, roc_cbc.predict(X_test), prot_attr='sex')\n",
    "print(roc_cbc_eod_sex)\n",
    "\n",
    "# Check for improvement in average odds error for sex\n",
    "abs(roc_cbc_eod_sex)<abs(lr_eod_sex)"
   ],
   "metadata": {
    "collapsed": false
   }
  },
  {
   "cell_type": "code",
   "execution_count": 19,
   "outputs": [],
   "source": [],
   "metadata": {
    "collapsed": false
   }
  }
 ],
 "metadata": {
  "kernelspec": {
   "display_name": "Python 3",
   "language": "python",
   "name": "python3"
  },
  "language_info": {
   "codemirror_mode": {
    "name": "ipython",
    "version": 2
   },
   "file_extension": ".py",
   "mimetype": "text/x-python",
   "name": "python",
   "nbconvert_exporter": "python",
   "pygments_lexer": "ipython2",
   "version": "2.7.6"
  }
 },
 "nbformat": 4,
 "nbformat_minor": 0
}
