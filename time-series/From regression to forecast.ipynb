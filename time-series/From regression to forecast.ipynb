{
 "cells": [
  {
   "cell_type": "code",
   "execution_count": 3,
   "id": "00581335",
   "metadata": {},
   "outputs": [
    {
     "name": "stdout",
     "output_type": "stream",
     "text": [
      "[10 20 30] 40\n",
      "[20 30 40] 50\n",
      "[30 40 50] 60\n",
      "[40 50 60] 70\n",
      "[50 60 70] 80\n",
      "[60 70 80] 90\n"
     ]
    }
   ],
   "source": [
    "# univariate data preparation\n",
    "from numpy import array\n",
    "# split a univariate sequence into samples\n",
    "def split_sequence(sequence, n_steps):\n",
    "    X, y = list(), list()\n",
    "    for i in range(len(sequence)):\n",
    "        # find the end of this pattern\n",
    "        end_ix = i + n_steps\n",
    "        # check if we are beyond the sequence\n",
    "        if end_ix > len(sequence)-1:\n",
    "            break\n",
    "        # gather input and output parts of the pattern\n",
    "        seq_x, seq_y = sequence[i:end_ix], sequence[end_ix]\n",
    "        X.append(seq_x)\n",
    "        y.append(seq_y)\n",
    "    return array(X), array(y)\n",
    "\n",
    "# define input sequence\n",
    "raw_seq = [10, 20, 30, 40, 50, 60, 70, 80, 90]\n",
    "# choose a number of time steps\n",
    "n_steps = 3\n",
    "# split into samples\n",
    "X, y = split_sequence(raw_seq, n_steps)\n",
    "# summarize the data\n",
    "for i in range(len(X)):\n",
    "    print(X[i], y[i])"
   ]
  },
  {
   "cell_type": "code",
   "execution_count": 55,
   "id": "f0b32b14",
   "metadata": {},
   "outputs": [],
   "source": [
    "import matplotlib.pyplot as plt\n",
    "import numpy as np\n",
    "import pandas as pd\n",
    "from sktime.datasets import load_airline\n",
    "from sktime.utils.plotting import plot_series\n",
    "from sktime.forecasting.model_selection import temporal_train_test_split"
   ]
  },
  {
   "cell_type": "code",
   "execution_count": 10,
   "id": "274de071",
   "metadata": {},
   "outputs": [],
   "source": [
    "# slightly modified code from the M4 competition\n",
    "def split_into_train_test(data, in_num, fh):\n",
    "    \"\"\"\n",
    "    Splits the series into train and test sets. Each step takes multiple points as inputs\n",
    "    :param data: an individual TS\n",
    "    :param fh: number of out of sample points\n",
    "    :param in_num: number of input points for the forecast\n",
    "    :return:\n",
    "    \"\"\"\n",
    "    train, test = data[:-fh], data[-(fh + in_num):]\n",
    "    x_train, y_train = train[:-1], np.roll(train, -in_num)[:-in_num]\n",
    "    x_test, y_test = test[:-1], np.roll(test, -in_num)[:-in_num]\n",
    "#     x_test, y_test = train[-in_num:], np.roll(test, -in_num)[:-in_num]\n",
    "\n",
    "    # reshape input to be [samples, time steps, features] (N-NF samples, 1 time step, 1 feature)\n",
    "    x_train = np.reshape(x_train, (-1, 1))\n",
    "    x_test = np.reshape(x_test, (-1, 1))\n",
    "    temp_test = np.roll(x_test, -1)\n",
    "    temp_train = np.roll(x_train, -1)\n",
    "    for x in range(1, in_num):\n",
    "        x_train = np.concatenate((x_train[:-1], temp_train[:-1]), 1)\n",
    "        x_test = np.concatenate((x_test[:-1], temp_test[:-1]), 1)\n",
    "        temp_test = np.roll(temp_test, -1)[:-1]\n",
    "        temp_train = np.roll(temp_train, -1)[:-1]\n",
    "\n",
    "    return x_train, y_train, x_test, y_test"
   ]
  },
  {
   "cell_type": "code",
   "execution_count": 19,
   "id": "1ebce509",
   "metadata": {},
   "outputs": [
    {
     "data": {
      "text/plain": [
       "[<matplotlib.lines.Line2D at 0x7fc4fa774a90>]"
      ]
     },
     "execution_count": 19,
     "metadata": {},
     "output_type": "execute_result"
    },
    {
     "data": {
      "image/png": "[encoded data removed]",
      "text/plain": [
       "<Figure size 432x288 with 1 Axes>"
      ]
     },
     "metadata": {
      "needs_background": "light"
     },
     "output_type": "display_data"
    }
   ],
   "source": [
    "y = load_airline()\n",
    "plt.plot(y.values)\n"
   ]
  },
  {
   "cell_type": "code",
   "execution_count": 28,
   "id": "b38d8b4f",
   "metadata": {},
   "outputs": [],
   "source": [
    "y_train, y_test = temporal_train_test_split(y, test_size=36)\n",
    "fh = np.arange(len(y_test)) + 1"
   ]
  },
  {
   "cell_type": "code",
   "execution_count": 29,
   "id": "33344eab",
   "metadata": {},
   "outputs": [
    {
     "data": {
      "text/plain": [
       "(Period\n",
       " 1949-01    112.0\n",
       " 1949-02    118.0\n",
       " 1949-03    132.0\n",
       " 1949-04    129.0\n",
       " 1949-05    121.0\n",
       "            ...  \n",
       " 1957-08    467.0\n",
       " 1957-09    404.0\n",
       " 1957-10    347.0\n",
       " 1957-11    305.0\n",
       " 1957-12    336.0\n",
       " Freq: M, Name: Number of airline passengers, Length: 108, dtype: float64,\n",
       " Period\n",
       " 1958-01    340.0\n",
       " 1958-02    318.0\n",
       " 1958-03    362.0\n",
       " 1958-04    348.0\n",
       " 1958-05    363.0\n",
       " 1958-06    435.0\n",
       " 1958-07    491.0\n",
       " 1958-08    505.0\n",
       " 1958-09    404.0\n",
       " 1958-10    359.0\n",
       " 1958-11    310.0\n",
       " 1958-12    337.0\n",
       " 1959-01    360.0\n",
       " 1959-02    342.0\n",
       " 1959-03    406.0\n",
       " 1959-04    396.0\n",
       " 1959-05    420.0\n",
       " 1959-06    472.0\n",
       " 1959-07    548.0\n",
       " 1959-08    559.0\n",
       " 1959-09    463.0\n",
       " 1959-10    407.0\n",
       " 1959-11    362.0\n",
       " 1959-12    405.0\n",
       " 1960-01    417.0\n",
       " 1960-02    391.0\n",
       " 1960-03    419.0\n",
       " 1960-04    461.0\n",
       " 1960-05    472.0\n",
       " 1960-06    535.0\n",
       " 1960-07    622.0\n",
       " 1960-08    606.0\n",
       " 1960-09    508.0\n",
       " 1960-10    461.0\n",
       " 1960-11    390.0\n",
       " 1960-12    432.0\n",
       " Freq: M, Name: Number of airline passengers, dtype: float64)"
      ]
     },
     "execution_count": 29,
     "metadata": {},
     "output_type": "execute_result"
    }
   ],
   "source": [
    "y_train, y_test"
   ]
  },
  {
   "cell_type": "code",
   "execution_count": 30,
   "id": "c8817f7d",
   "metadata": {},
   "outputs": [],
   "source": [
    "# here we split the time index, rather than the actual values, to show how we split the windows\n",
    "feature_window, target_window, _, _ = split_into_train_test(y.index.values, 10, len(fh))"
   ]
  },
  {
   "cell_type": "code",
   "execution_count": 24,
   "id": "d4a44749",
   "metadata": {},
   "outputs": [
    {
     "data": {
      "text/plain": [
       "array([[Period('1949-01', 'M'), Period('1949-02', 'M'),\n",
       "        Period('1949-03', 'M'), Period('1949-04', 'M'),\n",
       "        Period('1949-05', 'M'), Period('1949-06', 'M'),\n",
       "        Period('1949-07', 'M'), Period('1949-08', 'M'),\n",
       "        Period('1949-09', 'M'), Period('1949-10', 'M')],\n",
       "       [Period('1949-02', 'M'), Period('1949-03', 'M'),\n",
       "        Period('1949-04', 'M'), Period('1949-05', 'M'),\n",
       "        Period('1949-06', 'M'), Period('1949-07', 'M'),\n",
       "        Period('1949-08', 'M'), Period('1949-09', 'M'),\n",
       "        Period('1949-10', 'M'), Period('1949-11', 'M')],\n",
       "       [Period('1949-03', 'M'), Period('1949-04', 'M'),\n",
       "        Period('1949-05', 'M'), Period('1949-06', 'M'),\n",
       "        Period('1949-07', 'M'), Period('1949-08', 'M'),\n",
       "        Period('1949-09', 'M'), Period('1949-10', 'M'),\n",
       "        Period('1949-11', 'M'), Period('1949-12', 'M')],\n",
       "       [Period('1949-04', 'M'), Period('1949-05', 'M'),\n",
       "        Period('1949-06', 'M'), Period('1949-07', 'M'),\n",
       "        Period('1949-08', 'M'), Period('1949-09', 'M'),\n",
       "        Period('1949-10', 'M'), Period('1949-11', 'M'),\n",
       "        Period('1949-12', 'M'), Period('1950-01', 'M')],\n",
       "       [Period('1949-05', 'M'), Period('1949-06', 'M'),\n",
       "        Period('1949-07', 'M'), Period('1949-08', 'M'),\n",
       "        Period('1949-09', 'M'), Period('1949-10', 'M'),\n",
       "        Period('1949-11', 'M'), Period('1949-12', 'M'),\n",
       "        Period('1950-01', 'M'), Period('1950-02', 'M')]], dtype=object)"
      ]
     },
     "execution_count": 24,
     "metadata": {},
     "output_type": "execute_result"
    }
   ],
   "source": [
    "feature_window[:5, :]"
   ]
  },
  {
   "cell_type": "code",
   "execution_count": 25,
   "id": "2de728f2",
   "metadata": {},
   "outputs": [
    {
     "data": {
      "text/plain": [
       "array([Period('1949-11', 'M'), Period('1949-12', 'M'),\n",
       "       Period('1950-01', 'M'), Period('1950-02', 'M'),\n",
       "       Period('1950-03', 'M')], dtype=object)"
      ]
     },
     "execution_count": 25,
     "metadata": {},
     "output_type": "execute_result"
    }
   ],
   "source": [
    "target_window[:5]"
   ]
  },
  {
   "cell_type": "code",
   "execution_count": 32,
   "id": "98d498a2",
   "metadata": {},
   "outputs": [
    {
     "name": "stdout",
     "output_type": "stream",
     "text": [
      "(98, 10) (98,)\n"
     ]
    }
   ],
   "source": [
    "# now we can split the actual values of the time series\n",
    "x_train, y_train, x_test, y_test = split_into_train_test(y.values, 10, len(fh))\n",
    "print(x_train.shape, y_train.shape)"
   ]
  },
  {
   "cell_type": "code",
   "execution_count": 36,
   "id": "ff4902ac",
   "metadata": {},
   "outputs": [
    {
     "data": {
      "text/plain": [
       "array([[112., 118., 132., 129., 121., 135., 148., 148., 136., 119.],\n",
       "       [118., 132., 129., 121., 135., 148., 148., 136., 119., 104.],\n",
       "       [132., 129., 121., 135., 148., 148., 136., 119., 104., 118.],\n",
       "       [129., 121., 135., 148., 148., 136., 119., 104., 118., 115.],\n",
       "       [121., 135., 148., 148., 136., 119., 104., 118., 115., 126.],\n",
       "       [135., 148., 148., 136., 119., 104., 118., 115., 126., 141.],\n",
       "       [148., 148., 136., 119., 104., 118., 115., 126., 141., 135.],\n",
       "       [148., 136., 119., 104., 118., 115., 126., 141., 135., 125.],\n",
       "       [136., 119., 104., 118., 115., 126., 141., 135., 125., 149.],\n",
       "       [119., 104., 118., 115., 126., 141., 135., 125., 149., 170.],\n",
       "       [104., 118., 115., 126., 141., 135., 125., 149., 170., 170.],\n",
       "       [118., 115., 126., 141., 135., 125., 149., 170., 170., 158.],\n",
       "       [115., 126., 141., 135., 125., 149., 170., 170., 158., 133.],\n",
       "       [126., 141., 135., 125., 149., 170., 170., 158., 133., 114.],\n",
       "       [141., 135., 125., 149., 170., 170., 158., 133., 114., 140.],\n",
       "       [135., 125., 149., 170., 170., 158., 133., 114., 140., 145.],\n",
       "       [125., 149., 170., 170., 158., 133., 114., 140., 145., 150.],\n",
       "       [149., 170., 170., 158., 133., 114., 140., 145., 150., 178.],\n",
       "       [170., 170., 158., 133., 114., 140., 145., 150., 178., 163.],\n",
       "       [170., 158., 133., 114., 140., 145., 150., 178., 163., 172.],\n",
       "       [158., 133., 114., 140., 145., 150., 178., 163., 172., 178.],\n",
       "       [133., 114., 140., 145., 150., 178., 163., 172., 178., 199.],\n",
       "       [114., 140., 145., 150., 178., 163., 172., 178., 199., 199.],\n",
       "       [140., 145., 150., 178., 163., 172., 178., 199., 199., 184.],\n",
       "       [145., 150., 178., 163., 172., 178., 199., 199., 184., 162.],\n",
       "       [150., 178., 163., 172., 178., 199., 199., 184., 162., 146.],\n",
       "       [178., 163., 172., 178., 199., 199., 184., 162., 146., 166.],\n",
       "       [163., 172., 178., 199., 199., 184., 162., 146., 166., 171.],\n",
       "       [172., 178., 199., 199., 184., 162., 146., 166., 171., 180.],\n",
       "       [178., 199., 199., 184., 162., 146., 166., 171., 180., 193.],\n",
       "       [199., 199., 184., 162., 146., 166., 171., 180., 193., 181.],\n",
       "       [199., 184., 162., 146., 166., 171., 180., 193., 181., 183.],\n",
       "       [184., 162., 146., 166., 171., 180., 193., 181., 183., 218.],\n",
       "       [162., 146., 166., 171., 180., 193., 181., 183., 218., 230.],\n",
       "       [146., 166., 171., 180., 193., 181., 183., 218., 230., 242.],\n",
       "       [166., 171., 180., 193., 181., 183., 218., 230., 242., 209.],\n",
       "       [171., 180., 193., 181., 183., 218., 230., 242., 209., 191.],\n",
       "       [180., 193., 181., 183., 218., 230., 242., 209., 191., 172.],\n",
       "       [193., 181., 183., 218., 230., 242., 209., 191., 172., 194.],\n",
       "       [181., 183., 218., 230., 242., 209., 191., 172., 194., 196.],\n",
       "       [183., 218., 230., 242., 209., 191., 172., 194., 196., 196.],\n",
       "       [218., 230., 242., 209., 191., 172., 194., 196., 196., 236.],\n",
       "       [230., 242., 209., 191., 172., 194., 196., 196., 236., 235.],\n",
       "       [242., 209., 191., 172., 194., 196., 196., 236., 235., 229.],\n",
       "       [209., 191., 172., 194., 196., 196., 236., 235., 229., 243.],\n",
       "       [191., 172., 194., 196., 196., 236., 235., 229., 243., 264.],\n",
       "       [172., 194., 196., 196., 236., 235., 229., 243., 264., 272.],\n",
       "       [194., 196., 196., 236., 235., 229., 243., 264., 272., 237.],\n",
       "       [196., 196., 236., 235., 229., 243., 264., 272., 237., 211.],\n",
       "       [196., 236., 235., 229., 243., 264., 272., 237., 211., 180.],\n",
       "       [236., 235., 229., 243., 264., 272., 237., 211., 180., 201.],\n",
       "       [235., 229., 243., 264., 272., 237., 211., 180., 201., 204.],\n",
       "       [229., 243., 264., 272., 237., 211., 180., 201., 204., 188.],\n",
       "       [243., 264., 272., 237., 211., 180., 201., 204., 188., 235.],\n",
       "       [264., 272., 237., 211., 180., 201., 204., 188., 235., 227.],\n",
       "       [272., 237., 211., 180., 201., 204., 188., 235., 227., 234.],\n",
       "       [237., 211., 180., 201., 204., 188., 235., 227., 234., 264.],\n",
       "       [211., 180., 201., 204., 188., 235., 227., 234., 264., 302.],\n",
       "       [180., 201., 204., 188., 235., 227., 234., 264., 302., 293.],\n",
       "       [201., 204., 188., 235., 227., 234., 264., 302., 293., 259.],\n",
       "       [204., 188., 235., 227., 234., 264., 302., 293., 259., 229.],\n",
       "       [188., 235., 227., 234., 264., 302., 293., 259., 229., 203.],\n",
       "       [235., 227., 234., 264., 302., 293., 259., 229., 203., 229.],\n",
       "       [227., 234., 264., 302., 293., 259., 229., 203., 229., 242.],\n",
       "       [234., 264., 302., 293., 259., 229., 203., 229., 242., 233.],\n",
       "       [264., 302., 293., 259., 229., 203., 229., 242., 233., 267.],\n",
       "       [302., 293., 259., 229., 203., 229., 242., 233., 267., 269.],\n",
       "       [293., 259., 229., 203., 229., 242., 233., 267., 269., 270.],\n",
       "       [259., 229., 203., 229., 242., 233., 267., 269., 270., 315.],\n",
       "       [229., 203., 229., 242., 233., 267., 269., 270., 315., 364.],\n",
       "       [203., 229., 242., 233., 267., 269., 270., 315., 364., 347.],\n",
       "       [229., 242., 233., 267., 269., 270., 315., 364., 347., 312.],\n",
       "       [242., 233., 267., 269., 270., 315., 364., 347., 312., 274.],\n",
       "       [233., 267., 269., 270., 315., 364., 347., 312., 274., 237.],\n",
       "       [267., 269., 270., 315., 364., 347., 312., 274., 237., 278.],\n",
       "       [269., 270., 315., 364., 347., 312., 274., 237., 278., 284.],\n",
       "       [270., 315., 364., 347., 312., 274., 237., 278., 284., 277.],\n",
       "       [315., 364., 347., 312., 274., 237., 278., 284., 277., 317.],\n",
       "       [364., 347., 312., 274., 237., 278., 284., 277., 317., 313.],\n",
       "       [347., 312., 274., 237., 278., 284., 277., 317., 313., 318.],\n",
       "       [312., 274., 237., 278., 284., 277., 317., 313., 318., 374.],\n",
       "       [274., 237., 278., 284., 277., 317., 313., 318., 374., 413.],\n",
       "       [237., 278., 284., 277., 317., 313., 318., 374., 413., 405.],\n",
       "       [278., 284., 277., 317., 313., 318., 374., 413., 405., 355.],\n",
       "       [284., 277., 317., 313., 318., 374., 413., 405., 355., 306.],\n",
       "       [277., 317., 313., 318., 374., 413., 405., 355., 306., 271.],\n",
       "       [317., 313., 318., 374., 413., 405., 355., 306., 271., 306.],\n",
       "       [313., 318., 374., 413., 405., 355., 306., 271., 306., 315.],\n",
       "       [318., 374., 413., 405., 355., 306., 271., 306., 315., 301.],\n",
       "       [374., 413., 405., 355., 306., 271., 306., 315., 301., 356.],\n",
       "       [413., 405., 355., 306., 271., 306., 315., 301., 356., 348.],\n",
       "       [405., 355., 306., 271., 306., 315., 301., 356., 348., 355.],\n",
       "       [355., 306., 271., 306., 315., 301., 356., 348., 355., 422.],\n",
       "       [306., 271., 306., 315., 301., 356., 348., 355., 422., 465.],\n",
       "       [271., 306., 315., 301., 356., 348., 355., 422., 465., 467.],\n",
       "       [306., 315., 301., 356., 348., 355., 422., 465., 467., 404.],\n",
       "       [315., 301., 356., 348., 355., 422., 465., 467., 404., 347.],\n",
       "       [301., 356., 348., 355., 422., 465., 467., 404., 347., 305.]])"
      ]
     },
     "execution_count": 36,
     "metadata": {},
     "output_type": "execute_result"
    }
   ],
   "source": [
    "x_train"
   ]
  },
  {
   "cell_type": "code",
   "execution_count": 37,
   "id": "f12e71ca",
   "metadata": {},
   "outputs": [
    {
     "data": {
      "text/plain": [
       "array([104., 118., 115., 126., 141., 135., 125., 149., 170., 170., 158.,\n",
       "       133., 114., 140., 145., 150., 178., 163., 172., 178., 199., 199.,\n",
       "       184., 162., 146., 166., 171., 180., 193., 181., 183., 218., 230.,\n",
       "       242., 209., 191., 172., 194., 196., 196., 236., 235., 229., 243.,\n",
       "       264., 272., 237., 211., 180., 201., 204., 188., 235., 227., 234.,\n",
       "       264., 302., 293., 259., 229., 203., 229., 242., 233., 267., 269.,\n",
       "       270., 315., 364., 347., 312., 274., 237., 278., 284., 277., 317.,\n",
       "       313., 318., 374., 413., 405., 355., 306., 271., 306., 315., 301.,\n",
       "       356., 348., 355., 422., 465., 467., 404., 347., 305., 336.])"
      ]
     },
     "execution_count": 37,
     "metadata": {},
     "output_type": "execute_result"
    }
   ],
   "source": [
    "y_train"
   ]
  },
  {
   "cell_type": "code",
   "execution_count": 33,
   "id": "27b3863f",
   "metadata": {},
   "outputs": [
    {
     "data": {
      "text/plain": [
       "RandomForestRegressor()"
      ]
     },
     "execution_count": 33,
     "metadata": {},
     "output_type": "execute_result"
    }
   ],
   "source": [
    "from sklearn.ensemble import RandomForestRegressor\n",
    "\n",
    "model = RandomForestRegressor()\n",
    "model.fit(x_train, y_train)\n"
   ]
  },
  {
   "cell_type": "code",
   "execution_count": 39,
   "id": "9dc33a6c",
   "metadata": {},
   "outputs": [
    {
     "data": {
      "text/plain": [
       "array([[356., 348., 355., 422., 465., 467., 404., 347., 305., 336.],\n",
       "       [348., 355., 422., 465., 467., 404., 347., 305., 336., 340.],\n",
       "       [355., 422., 465., 467., 404., 347., 305., 336., 340., 318.],\n",
       "       [422., 465., 467., 404., 347., 305., 336., 340., 318., 362.],\n",
       "       [465., 467., 404., 347., 305., 336., 340., 318., 362., 348.],\n",
       "       [467., 404., 347., 305., 336., 340., 318., 362., 348., 363.],\n",
       "       [404., 347., 305., 336., 340., 318., 362., 348., 363., 435.],\n",
       "       [347., 305., 336., 340., 318., 362., 348., 363., 435., 491.],\n",
       "       [305., 336., 340., 318., 362., 348., 363., 435., 491., 505.],\n",
       "       [336., 340., 318., 362., 348., 363., 435., 491., 505., 404.],\n",
       "       [340., 318., 362., 348., 363., 435., 491., 505., 404., 359.],\n",
       "       [318., 362., 348., 363., 435., 491., 505., 404., 359., 310.],\n",
       "       [362., 348., 363., 435., 491., 505., 404., 359., 310., 337.],\n",
       "       [348., 363., 435., 491., 505., 404., 359., 310., 337., 360.],\n",
       "       [363., 435., 491., 505., 404., 359., 310., 337., 360., 342.],\n",
       "       [435., 491., 505., 404., 359., 310., 337., 360., 342., 406.],\n",
       "       [491., 505., 404., 359., 310., 337., 360., 342., 406., 396.],\n",
       "       [505., 404., 359., 310., 337., 360., 342., 406., 396., 420.],\n",
       "       [404., 359., 310., 337., 360., 342., 406., 396., 420., 472.],\n",
       "       [359., 310., 337., 360., 342., 406., 396., 420., 472., 548.],\n",
       "       [310., 337., 360., 342., 406., 396., 420., 472., 548., 559.],\n",
       "       [337., 360., 342., 406., 396., 420., 472., 548., 559., 463.],\n",
       "       [360., 342., 406., 396., 420., 472., 548., 559., 463., 407.],\n",
       "       [342., 406., 396., 420., 472., 548., 559., 463., 407., 362.],\n",
       "       [406., 396., 420., 472., 548., 559., 463., 407., 362., 405.],\n",
       "       [396., 420., 472., 548., 559., 463., 407., 362., 405., 417.],\n",
       "       [420., 472., 548., 559., 463., 407., 362., 405., 417., 391.],\n",
       "       [472., 548., 559., 463., 407., 362., 405., 417., 391., 419.],\n",
       "       [548., 559., 463., 407., 362., 405., 417., 391., 419., 461.],\n",
       "       [559., 463., 407., 362., 405., 417., 391., 419., 461., 472.],\n",
       "       [463., 407., 362., 405., 417., 391., 419., 461., 472., 535.],\n",
       "       [407., 362., 405., 417., 391., 419., 461., 472., 535., 622.],\n",
       "       [362., 405., 417., 391., 419., 461., 472., 535., 622., 606.],\n",
       "       [405., 417., 391., 419., 461., 472., 535., 622., 606., 508.],\n",
       "       [417., 391., 419., 461., 472., 535., 622., 606., 508., 461.],\n",
       "       [391., 419., 461., 472., 535., 622., 606., 508., 461., 390.]])"
      ]
     },
     "execution_count": 39,
     "metadata": {},
     "output_type": "execute_result"
    }
   ],
   "source": [
    "x_test"
   ]
  },
  {
   "cell_type": "code",
   "execution_count": 41,
   "id": "045681ca",
   "metadata": {},
   "outputs": [],
   "source": [
    "y_pred = model.predict(x_test)"
   ]
  },
  {
   "cell_type": "code",
   "execution_count": 43,
   "id": "5b386d10",
   "metadata": {},
   "outputs": [
    {
     "data": {
      "text/plain": [
       "[<matplotlib.lines.Line2D at 0x7fc4fa602520>]"
      ]
     },
     "execution_count": 43,
     "metadata": {},
     "output_type": "execute_result"
    },
    {
     "data": {
      "image/png": "[encoded data removed]",
      "text/plain": [
       "<Figure size 432x288 with 1 Axes>"
      ]
     },
     "metadata": {
      "needs_background": "light"
     },
     "output_type": "display_data"
    }
   ],
   "source": [
    "plt.plot(y_test)\n",
    "plt.plot(y_pred)"
   ]
  },
  {
   "cell_type": "code",
   "execution_count": 47,
   "id": "20ea8def",
   "metadata": {},
   "outputs": [
    {
     "name": "stdout",
     "output_type": "stream",
     "text": [
      "[0 1 2 3 4 5 6 7 8 9] [10]\n",
      "[ 1  2  3  4  5  6  7  8  9 10] [11]\n",
      "[ 2  3  4  5  6  7  8  9 10 11] [12]\n",
      "[ 3  4  5  6  7  8  9 10 11 12] [13]\n",
      "[ 4  5  6  7  8  9 10 11 12 13] [14]\n",
      "[ 5  6  7  8  9 10 11 12 13 14] [15]\n",
      "[ 6  7  8  9 10 11 12 13 14 15] [16]\n",
      "[ 7  8  9 10 11 12 13 14 15 16] [17]\n",
      "[ 8  9 10 11 12 13 14 15 16 17] [18]\n",
      "[ 9 10 11 12 13 14 15 16 17 18] [19]\n"
     ]
    }
   ],
   "source": [
    "from sktime.forecasting.model_selection import SlidingWindowSplitter\n",
    "\n",
    "cv = SlidingWindowSplitter(window_length=10, start_with_window=True)\n",
    "for input_window, output_window in cv.split(y.iloc[:20]):\n",
    "    print(input_window, output_window)"
   ]
  },
  {
   "cell_type": "code",
   "execution_count": 50,
   "id": "c2ef8da2",
   "metadata": {},
   "outputs": [
    {
     "name": "stdout",
     "output_type": "stream",
     "text": [
      "[0 1 2 3 4 5 6 7 8 9] [10]\n",
      "[ 0  1  2  3  4  5  6  7  8  9 10] [11]\n",
      "[ 0  1  2  3  4  5  6  7  8  9 10 11] [12]\n",
      "[ 0  1  2  3  4  5  6  7  8  9 10 11 12] [13]\n",
      "[ 0  1  2  3  4  5  6  7  8  9 10 11 12 13] [14]\n",
      "[ 0  1  2  3  4  5  6  7  8  9 10 11 12 13 14] [15]\n",
      "[ 0  1  2  3  4  5  6  7  8  9 10 11 12 13 14 15] [16]\n",
      "[ 0  1  2  3  4  5  6  7  8  9 10 11 12 13 14 15 16] [17]\n",
      "[ 0  1  2  3  4  5  6  7  8  9 10 11 12 13 14 15 16 17] [18]\n",
      "[ 0  1  2  3  4  5  6  7  8  9 10 11 12 13 14 15 16 17 18] [19]\n"
     ]
    }
   ],
   "source": [
    "from sktime.forecasting.model_selection import ExpandingWindowSplitter\n",
    "\n",
    "cv = ExpandingWindowSplitter(start_with_window=True)\n",
    "for input_window, output_window in cv.split(y.iloc[:20]):\n",
    "    print(input_window, output_window)"
   ]
  },
  {
   "cell_type": "code",
   "execution_count": 64,
   "id": "afb0319f",
   "metadata": {},
   "outputs": [
    {
     "name": "stdout",
     "output_type": "stream",
     "text": [
      "RecursiveTabularRegressionForecaster(estimator=KNeighborsRegressor(n_neighbors=1),\n",
      "                                     window_length=15)\n"
     ]
    }
   ],
   "source": [
    "from sklearn.neighbors import KNeighborsRegressor\n",
    "from sktime.performance_metrics.forecasting import mean_absolute_percentage_error\n",
    "from sktime.forecasting.compose import make_reduction\n",
    "\n",
    "y_train, y_test = temporal_train_test_split(y, test_size=36)\n",
    "\n",
    "regressor = KNeighborsRegressor(n_neighbors=1)\n",
    "forecaster = make_reduction(regressor, window_length=15, strategy=\"recursive\")\n",
    "print(forecaster)"
   ]
  },
  {
   "cell_type": "code",
   "execution_count": 63,
   "id": "7819e4df",
   "metadata": {},
   "outputs": [
    {
     "data": {
      "text/plain": [
       "0.14187443909112035"
      ]
     },
     "execution_count": 63,
     "metadata": {},
     "output_type": "execute_result"
    },
    {
     "data": {
      "image/png": "[encoded data removed]",
      "text/plain": [
       "<Figure size 1152x288 with 1 Axes>"
      ]
     },
     "metadata": {
      "needs_background": "light"
     },
     "output_type": "display_data"
    }
   ],
   "source": [
    "forecaster.fit(y_train)\n",
    "y_pred = forecaster.predict(fh)\n",
    "plot_series(y_train, y_test, y_pred, labels=[\"y_train\", \"y_test\", \"y_pred\"])\n",
    "mean_absolute_percentage_error(y_pred, y_test)"
   ]
  },
  {
   "cell_type": "code",
   "execution_count": null,
   "id": "7cfa4f24",
   "metadata": {},
   "outputs": [],
   "source": []
  }
 ],
 "metadata": {
  "kernelspec": {
   "display_name": "Python 3 (ipykernel)",
   "language": "python",
   "name": "python3"
  },
  "language_info": {
   "codemirror_mode": {
    "name": "ipython",
    "version": 3
   },
   "file_extension": ".py",
   "mimetype": "text/x-python",
   "name": "python",
   "nbconvert_exporter": "python",
   "pygments_lexer": "ipython3",
   "version": "3.8.10"
  }
 },
 "nbformat": 4,
 "nbformat_minor": 5
}
