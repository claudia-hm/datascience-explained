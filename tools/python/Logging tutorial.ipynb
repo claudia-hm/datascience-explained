{
 "cells": [
  {
   "cell_type": "markdown",
   "id": "a807adad",
   "metadata": {},
   "source": [
    "# Logging tutorial\n",
    "\n",
    "In programming, a **log** is a written trace of a series of events that happen while you are running a program. It can have many uses: from understanding the **execution flow** to **debugging**. In this tutorial, we will show the  basic usage of the ```logging``` library for python."
   ]
  },
  {
   "cell_type": "markdown",
   "id": "f846ac0e",
   "metadata": {},
   "source": [
    "The first important concept is called *level* of logging. There are 5 different types: **info, debugging, warning, error and critical**, and they are ordered by severity. In the table below you have a summary of each of them:\n",
    "\n",
    "| Level | Description |\n",
    "|:---:|:---:|\n",
    "| INFO | Confirmation that things are working as expected. |\t\n",
    "| DEBUG | Detailed information, typically of interest only when diagnosing problems. |\n",
    "| WARNING | An indication that something unexpected happened, or indicative of some problem in the near future (e.g. ‘disk space low’). The software is still working as expected. |\n",
    "| ERROR | Due to a more serious problem, the software has not been able to perform some function.|\n",
    "| CRITICAL |A serious error, indicating that the program itself may be unable to continue running.|\n",
    "\n",
    "By default, the selected level is ```WARNING``` and no messages are printed with less severity (```DEBUG``` and ```INFO```) unless specified. Let's play a bit with this module!\n",
    "\t\n",
    "\n"
   ]
  },
  {
   "cell_type": "code",
   "execution_count": 1,
   "id": "bcccc233",
   "metadata": {},
   "outputs": [],
   "source": [
    "import logging"
   ]
  },
  {
   "cell_type": "code",
   "execution_count": 2,
   "id": "9a5f4fb2",
   "metadata": {},
   "outputs": [],
   "source": [
    "logging.basicConfig(filename='example.log', level=logging.WARNING)"
   ]
  },
  {
   "cell_type": "markdown",
   "id": "8abfdea0",
   "metadata": {},
   "source": [
    "In this first cell, we specified the file where we are outputting the logging information and set the level. The call to ```basicConfig()``` should come before any calls to ```debug()```, ```info()``` etc. As it’s intended as a one-off simple configuration facility, only the first call will actually do anything: subsequent calls are effectively no-ops.\n",
    "Basic arguments:\n",
    "* ```level```: ```logging.INFO, logging.DEBUG, logging.WARNING, logging.ERROR, logging.CRITICAL```\n",
    "* ```filename``` to output logs\n",
    "* ```filemode``` wether to append (```a```), overwrite the file (```w```), ecc\n",
    "* ```format```: a string specifying the format of messages, example ```format='%(process)d-%(levelname)s-%(message)s'```\n",
    "\n",
    "Some examples:\n",
    "* ```logging.basicConfig(filename='example.log', level=logging.INFO, filemode='w')``` --> overwrites the log file and includes all log levels\n",
    "* ```logging.basicConfig(format='%(asctime)s %(message)s', datefmt='%m/%d/%Y %I:%M:%S %p``` --> output is redirected to standard output with date and time"
   ]
  },
  {
   "cell_type": "code",
   "execution_count": 3,
   "id": "a5cea4b6",
   "metadata": {},
   "outputs": [],
   "source": [
    "logging.info('Info is out of log scope')\n",
    "logging.debug('Also, debug! no messages are shown')\n",
    "logging.warning('This warning will be printed!')\n",
    "logging.error('errors too')\n",
    "logging.error('end of basic tutorial! have a nice day :)')"
   ]
  },
  {
   "cell_type": "markdown",
   "id": "f40092d7",
   "metadata": {},
   "source": [
    "You can check the result of this logging in the file example.log"
   ]
  },
  {
   "cell_type": "code",
   "execution_count": null,
   "id": "21158a39",
   "metadata": {},
   "outputs": [],
   "source": []
  }
 ],
 "metadata": {
  "kernelspec": {
   "display_name": "Python 3 (ipykernel)",
   "language": "python",
   "name": "python3"
  },
  "language_info": {
   "codemirror_mode": {
    "name": "ipython",
    "version": 3
   },
   "file_extension": ".py",
   "mimetype": "text/x-python",
   "name": "python",
   "nbconvert_exporter": "python",
   "pygments_lexer": "ipython3",
   "version": "3.8.10"
  }
 },
 "nbformat": 4,
 "nbformat_minor": 5
}
