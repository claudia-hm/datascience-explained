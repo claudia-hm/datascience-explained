{
 "cells": [
  {
   "cell_type": "markdown",
   "id": "977b18a5",
   "metadata": {},
   "source": [
    "# Spotipy tutorial\n",
    "\n",
    "Spotipy is a lightweight Python library for the Spotify Web API. With Spotipy you get full access to all of the music data provided by the Spotify platform. \n",
    "\n",
    "You will need a [Spotify developers'](https://developer.spotify.com/) account. Create an app, and set the redirect url to http://localhost:9000. Then store it together with your client ID and secret key in a file with the following form:\n",
    "```\n",
    "client_ID='your-spotify-client-id'\n",
    "client_SECRET='your-spotify-client-secret'   \n",
    "redirect_url='your-spotify-redirect-url'\n",
    "```\n",
    "I named the file ```cred.py```\n"
   ]
  },
  {
   "cell_type": "markdown",
   "id": "9129ebd7",
   "metadata": {},
   "source": [
    "References:\n",
    "\n",
    "    * https://www.section.io/engineering-education/spotify-python-part-1/\n",
    "    * https://spotipy.readthedocs.io/en/2.19.0/\n",
    "    * https://medium.com/@maxtingle/getting-started-with-spotifys-api-spotipy-197c3dc6353b"
   ]
  },
  {
   "cell_type": "code",
   "execution_count": 1,
   "id": "056d0ac5",
   "metadata": {},
   "outputs": [],
   "source": [
    "import spotipy\n",
    "from spotipy.oauth2 import SpotifyOAuth\n",
    "import cred\n",
    "from __future__ import print_function    # (at top of module)\n",
    "import json\n",
    "import time\n",
    "import sys\n",
    "from tqdm import tqdm\n",
    "import numpy as np"
   ]
  },
  {
   "cell_type": "markdown",
   "id": "ab7174ee",
   "metadata": {},
   "source": [
    "#### Scopes\n",
    "Scopes provide Spotify users using third-party apps the confidence that only the information they choose to share will be shared. You can find all possible scopes in the  [documentation](https://developer.spotify.com/documentation/general/guides/authorization/scopes/).\n"
   ]
  },
  {
   "cell_type": "code",
   "execution_count": 2,
   "id": "f0f01f90",
   "metadata": {},
   "outputs": [],
   "source": [
    "#scope = \"user-read-recently-played\"\n",
    "scope = 'user-top-read'"
   ]
  },
  {
   "cell_type": "markdown",
   "id": "80e1df6e",
   "metadata": {},
   "source": [
    "#### Authentication\n",
    "To \"log in\" into your Spotify developer account and use Spotipy we need to send to the Authenticator the information that we stored in the ```cred.py``` file."
   ]
  },
  {
   "cell_type": "code",
   "execution_count": 3,
   "id": "8715ef12",
   "metadata": {},
   "outputs": [],
   "source": [
    "sp = spotipy.Spotify(auth_manager=SpotifyOAuth(client_id=cred.client_id, client_secret= cred.client_secret, redirect_uri=cred.redirect_url, scope=scope))"
   ]
  },
  {
   "cell_type": "markdown",
   "id": "4654f0ca",
   "metadata": {},
   "source": [
    "## 1. Examples "
   ]
  },
  {
   "cell_type": "markdown",
   "id": "6a5942b3",
   "metadata": {},
   "source": [
    "### Example 1: Retrieve artist information"
   ]
  },
  {
   "cell_type": "markdown",
   "id": "7e87a8ec",
   "metadata": {},
   "source": [
    "Get information from your favorite artist."
   ]
  },
  {
   "cell_type": "code",
   "execution_count": 4,
   "id": "68d5a714",
   "metadata": {},
   "outputs": [
    {
     "data": {
      "text/plain": [
       "{'artists': {'href': 'https://api.spotify.com/v1/search?query=artist%3ATerbutalina&type=artist&offset=0&limit=10',\n",
       "  'items': [{'external_urls': {'spotify': 'https://open.spotify.com/artist/3sApRiClbyMfnz5AmwG46A'},\n",
       "    'followers': {'href': None, 'total': 5554},\n",
       "    'genres': ['galego', 'galician rock'],\n",
       "    'href': 'https://api.spotify.com/v1/artists/3sApRiClbyMfnz5AmwG46A',\n",
       "    'id': '3sApRiClbyMfnz5AmwG46A',\n",
       "    'images': [{'height': 640,\n",
       "      'url': 'https://i.scdn.co/image/ab6761610000e5eb19b2be96cbf7ca0e68159e09',\n",
       "      'width': 640},\n",
       "     {'height': 320,\n",
       "      'url': 'https://i.scdn.co/image/ab6761610000517419b2be96cbf7ca0e68159e09',\n",
       "      'width': 320},\n",
       "     {'height': 160,\n",
       "      'url': 'https://i.scdn.co/image/ab6761610000f17819b2be96cbf7ca0e68159e09',\n",
       "      'width': 160}],\n",
       "    'name': 'Terbutalina',\n",
       "    'popularity': 26,\n",
       "    'type': 'artist',\n",
       "    'uri': 'spotify:artist:3sApRiClbyMfnz5AmwG46A'}],\n",
       "  'limit': 10,\n",
       "  'next': None,\n",
       "  'offset': 0,\n",
       "  'previous': None,\n",
       "  'total': 1}}"
      ]
     },
     "execution_count": 4,
     "metadata": {},
     "output_type": "execute_result"
    }
   ],
   "source": [
    "name = 'Terbutalina'\n",
    "terbutalina = sp.search(q='artist:' + name, type='artist')\n",
    "terbutalina"
   ]
  },
  {
   "cell_type": "markdown",
   "id": "2c956287",
   "metadata": {},
   "source": [
    "You can also retrieve artist info with the spotify uri. To get the artist ID you can go to the artist page, click on the three dots and select copy link to address. \n",
    "For example: ```https://open.spotify.com/artist/3sApRiClbyMfnz5AmwG46A?si=FwBm3LsJSHu8c0RwTI0k2A```\n",
    "\n",
    "The string after ```artist/``` is the desired id. We can also retrieve it from the previous example."
   ]
  },
  {
   "cell_type": "code",
   "execution_count": 5,
   "id": "3a69f1a7",
   "metadata": {},
   "outputs": [
    {
     "data": {
      "text/plain": [
       "'3sApRiClbyMfnz5AmwG46A'"
      ]
     },
     "execution_count": 5,
     "metadata": {},
     "output_type": "execute_result"
    }
   ],
   "source": [
    "spotify_id = terbutalina[\"artists\"][\"items\"][0][\"id\"]\n",
    "spotify_id"
   ]
  },
  {
   "cell_type": "code",
   "execution_count": 6,
   "id": "2954f733",
   "metadata": {},
   "outputs": [
    {
     "name": "stdout",
     "output_type": "stream",
     "text": [
      "{'external_urls': {'spotify': 'https://open.spotify.com/artist/3sApRiClbyMfnz5AmwG46A'}, 'followers': {'href': None, 'total': 5554}, 'genres': ['galego', 'galician rock'], 'href': 'https://api.spotify.com/v1/artists/3sApRiClbyMfnz5AmwG46A', 'id': '3sApRiClbyMfnz5AmwG46A', 'images': [{'height': 640, 'url': 'https://i.scdn.co/image/ab6761610000e5eb19b2be96cbf7ca0e68159e09', 'width': 640}, {'height': 320, 'url': 'https://i.scdn.co/image/ab6761610000517419b2be96cbf7ca0e68159e09', 'width': 320}, {'height': 160, 'url': 'https://i.scdn.co/image/ab6761610000f17819b2be96cbf7ca0e68159e09', 'width': 160}], 'name': 'Terbutalina', 'popularity': 26, 'type': 'artist', 'uri': 'spotify:artist:3sApRiClbyMfnz5AmwG46A'}\n"
     ]
    }
   ],
   "source": [
    "spotify_uri = 'spotify:artist:'+ spotify_id\n",
    "artist = sp.artist(spotify_id)\n",
    "print(artist)"
   ]
  },
  {
   "cell_type": "markdown",
   "id": "f138fa98",
   "metadata": {},
   "source": [
    "There are many options to retrieve information from users..."
   ]
  },
  {
   "cell_type": "code",
   "execution_count": 7,
   "id": "d6d4f968",
   "metadata": {},
   "outputs": [
    {
     "name": "stdout",
     "output_type": "stream",
     "text": [
      "{'display_name': 'Paul Lamere', 'external_urls': {'spotify': 'https://open.spotify.com/user/plamere'}, 'followers': {'href': None, 'total': 283}, 'href': 'https://api.spotify.com/v1/users/plamere', 'id': 'plamere', 'images': [{'height': None, 'url': 'https://scontent-ams4-1.xx.fbcdn.net/v/t1.18169-1/p320x320/23755553_10155743258091091_7076319632011926032_n.jpg?_nc_cat=104&ccb=1-5&_nc_sid=0c64ff&_nc_ohc=eJpnhqOpjqgAX-z_B1R&_nc_ht=scontent-ams4-1.xx&edm=AP4hL3IEAAAA&oh=00_AT_6T7PYrConMsX4NzhGng5u5XYtiVDiAMl7ZAnD6Bg8Qw&oe=621B461D', 'width': None}], 'type': 'user', 'uri': 'spotify:user:plamere'}\n"
     ]
    }
   ],
   "source": [
    "user = sp.user('plamere')\n",
    "print(user)"
   ]
  },
  {
   "cell_type": "markdown",
   "id": "dd961df6",
   "metadata": {},
   "source": [
    "...albums..."
   ]
  },
  {
   "cell_type": "code",
   "execution_count": 8,
   "id": "2bc7c88a",
   "metadata": {},
   "outputs": [
    {
     "name": "stdout",
     "output_type": "stream",
     "text": [
      "Espabila Gallego\n",
      "Al Otomano Se Le Va la Mano\n",
      "A Muerte\n"
     ]
    }
   ],
   "source": [
    "results = sp.artist_albums(spotify_uri, album_type='album')\n",
    "albums = results['items']\n",
    "while results['next']:\n",
    "    results = spotify.next(results)\n",
    "    albums.extend(results['items'])\n",
    "\n",
    "for album in albums:\n",
    "    print(album['name'])"
   ]
  },
  {
   "cell_type": "markdown",
   "id": "5885af56",
   "metadata": {},
   "source": [
    "... top tracks ..."
   ]
  },
  {
   "cell_type": "code",
   "execution_count": 9,
   "id": "d374d0e0",
   "metadata": {},
   "outputs": [
    {
     "name": "stdout",
     "output_type": "stream",
     "text": [
      "track    : Compostela\n",
      "audio    : https://p.scdn.co/mp3-preview/21dd7e2b131e9f62d790d1732e6fcef6244e586a?cid=85782bd348bd425f8b19f2720db4bb78\n",
      "cover art: https://i.scdn.co/image/ab67616d0000b273a9cf7cf10a36757d1fa79359\n",
      "\n",
      "track    : Muinheira de Costa\n",
      "audio    : https://p.scdn.co/mp3-preview/295c526aadb1223a7dee240d8f301f602cbc2d30?cid=85782bd348bd425f8b19f2720db4bb78\n",
      "cover art: https://i.scdn.co/image/ab67616d0000b2737b6c024b04b4500d8ae783d1\n",
      "\n",
      "track    : Pa Paou Ma Ma\n",
      "audio    : https://p.scdn.co/mp3-preview/6ba88ef3eefff4bcd2347d3cf87d17814398621f?cid=85782bd348bd425f8b19f2720db4bb78\n",
      "cover art: https://i.scdn.co/image/ab67616d0000b2731b608a9d25efd1e867599457\n",
      "\n",
      "track    : Antonte vinte\n",
      "audio    : https://p.scdn.co/mp3-preview/29a6a43cdb42d7be78da58175c8cdf6c4fb8497f?cid=85782bd348bd425f8b19f2720db4bb78\n",
      "cover art: https://i.scdn.co/image/ab67616d0000b2737b6c024b04b4500d8ae783d1\n",
      "\n",
      "track    : Mambo\n",
      "audio    : https://p.scdn.co/mp3-preview/ed7eaade01829020c8ed0f8ac81a19c4130f8f5d?cid=85782bd348bd425f8b19f2720db4bb78\n",
      "cover art: https://i.scdn.co/image/ab67616d0000b2731b608a9d25efd1e867599457\n",
      "\n",
      "track    : Marisco barato\n",
      "audio    : https://p.scdn.co/mp3-preview/1c3ec04681a1abb83f36ad175700eeb54ce0c4ce?cid=85782bd348bd425f8b19f2720db4bb78\n",
      "cover art: https://i.scdn.co/image/ab67616d0000b2737b6c024b04b4500d8ae783d1\n",
      "\n",
      "track    : Sudar Sangre\n",
      "audio    : https://p.scdn.co/mp3-preview/787d806dc774e06c0d43945687ccc6edac21b741?cid=85782bd348bd425f8b19f2720db4bb78\n",
      "cover art: https://i.scdn.co/image/ab67616d0000b2731b608a9d25efd1e867599457\n",
      "\n",
      "track    : Miradas Turbias\n",
      "audio    : https://p.scdn.co/mp3-preview/5dada1d0749c09ef6783bdd7d8a476ff301d5fea?cid=85782bd348bd425f8b19f2720db4bb78\n",
      "cover art: https://i.scdn.co/image/ab67616d0000b2731b608a9d25efd1e867599457\n",
      "\n",
      "track    : Ben Peinados\n",
      "audio    : https://p.scdn.co/mp3-preview/f53fff406468dd723cd6ad0ab1f9652fb4f89934?cid=85782bd348bd425f8b19f2720db4bb78\n",
      "cover art: https://i.scdn.co/image/ab67616d0000b273a9cf7cf10a36757d1fa79359\n",
      "\n",
      "track    : Ninguén Che Quere\n",
      "audio    : https://p.scdn.co/mp3-preview/7010b471ddf40875538497b69f3c0663376b81ce?cid=85782bd348bd425f8b19f2720db4bb78\n",
      "cover art: https://i.scdn.co/image/ab67616d0000b27362a761ddf3687464cc82beed\n",
      "\n"
     ]
    }
   ],
   "source": [
    "results = sp.artist_top_tracks(spotify_uri)\n",
    "\n",
    "for track in results['tracks'][:10]:\n",
    "    print('track    : ' + track['name'])\n",
    "    print('audio    : ' + track['preview_url'])\n",
    "    print('cover art: ' + track['album']['images'][0]['url'])\n",
    "    print()"
   ]
  },
  {
   "cell_type": "markdown",
   "id": "0e3d7ac6",
   "metadata": {},
   "source": [
    "### Example 2: User's top artists\n",
    "Retrieve the list of top artist's for the current user in the short, medium or long term. As this is private data, you need user consent to inspect this data. "
   ]
  },
  {
   "cell_type": "code",
   "execution_count": 10,
   "id": "971c8b52",
   "metadata": {},
   "outputs": [
    {
     "name": "stdout",
     "output_type": "stream",
     "text": [
      "range: long_term\n",
      "0 Verto\n",
      "1 El Niño de la Hipoteca\n",
      "2 Oques Grasses\n",
      "3 The Beatles\n",
      "4 C. Tangana\n",
      "5 cmqmartina\n",
      "6 Chet Baker\n",
      "7 ABBA\n",
      "8 Terbutalina\n",
      "9 Electric Light Orchestra\n",
      "10 Jacob Collier\n",
      "\n"
     ]
    }
   ],
   "source": [
    "scope = 'user-top-read'\n",
    "\n",
    "for sp_range in ['long_term']:\n",
    "    print(\"range:\", sp_range)\n",
    "\n",
    "    results = sp.current_user_top_artists(time_range=sp_range, limit=50)\n",
    "\n",
    "    for i, item in enumerate(results['items']):\n",
    "        print(i, item['name'])\n",
    "        if i > 9: break\n",
    "    print()"
   ]
  },
  {
   "cell_type": "markdown",
   "id": "dad7f0f7",
   "metadata": {},
   "source": [
    "### Example 3: audio analysis"
   ]
  },
  {
   "cell_type": "markdown",
   "id": "0cc186d1",
   "metadata": {},
   "source": [
    "I found this capability quite amazing: you can retrieve audio features from tracks on spotify"
   ]
  },
  {
   "cell_type": "code",
   "execution_count": 11,
   "id": "99f38579",
   "metadata": {},
   "outputs": [
    {
     "data": {
      "text/plain": [
       "[{'danceability': 0.339,\n",
       "  'energy': 0.797,\n",
       "  'key': 2,\n",
       "  'loudness': -5.238,\n",
       "  'mode': 1,\n",
       "  'speechiness': 0.093,\n",
       "  'acousticness': 0.189,\n",
       "  'instrumentalness': 0.00161,\n",
       "  'liveness': 0.245,\n",
       "  'valence': 0.525,\n",
       "  'tempo': 126.937,\n",
       "  'type': 'audio_features',\n",
       "  'id': '7qe4RSiGRsHAiKyKfXD28a',\n",
       "  'uri': 'spotify:track:7qe4RSiGRsHAiKyKfXD28a',\n",
       "  'track_href': 'https://api.spotify.com/v1/tracks/7qe4RSiGRsHAiKyKfXD28a',\n",
       "  'analysis_url': 'https://api.spotify.com/v1/audio-analysis/7qe4RSiGRsHAiKyKfXD28a',\n",
       "  'duration_ms': 103056,\n",
       "  'time_signature': 4}]"
      ]
     },
     "execution_count": 11,
     "metadata": {},
     "output_type": "execute_result"
    }
   ],
   "source": [
    "tid = 'spotify:track:7qe4RSiGRsHAiKyKfXD28a'\n",
    "sp.audio_features(tracks = [tid])"
   ]
  },
  {
   "cell_type": "markdown",
   "id": "b3024e1d",
   "metadata": {},
   "source": [
    "You can also retrieve an audio analysis, whatever that means (very long output)"
   ]
  },
  {
   "cell_type": "code",
   "execution_count": 12,
   "id": "a0ae9d92",
   "metadata": {},
   "outputs": [],
   "source": [
    "analysis = sp.audio_analysis(tid)\n"
   ]
  },
  {
   "cell_type": "markdown",
   "id": "981b085c",
   "metadata": {},
   "source": [
    "### Example 4: Recommendations\n",
    "Spotipy allows you to retrieve Spotify recommendations based on track, artist and genres. Pretty amazing!\n"
   ]
  },
  {
   "cell_type": "code",
   "execution_count": 13,
   "id": "290c515c",
   "metadata": {},
   "outputs": [
    {
     "name": "stdout",
     "output_type": "stream",
     "text": [
      "Query song: Alexander Hamilton from Leslie Odom Jr.\n",
      "~~~Recommendations~~~\n",
      "* Oranges from Lawrence\n",
      "* The Greatest Show from Panic! At The Disco\n",
      "* You Can't Stop The Beat from Elijah Kelley\n",
      "* Dear Theodosia from Leslie Odom Jr.\n",
      "* More Than Survive from Will Connolly\n",
      "* prom dress from mxmtoon\n",
      "* Brave from Sara Bareilles\n",
      "* 96,000 from Anthony Ramos\n",
      "* Bummerland from AJR\n",
      "* Into the Unknown from Idina Menzel\n",
      "* Brand New from Ben Rector\n",
      "* Monster from dodie\n",
      "* Internet Ruined Me from Wilbur Soot\n",
      "* What I Was Born To Do from Bring It On: The Musical - Original Broadway Cast\n",
      "* Deadpool vs Boba Fett from Epic Rap Battles of History\n",
      "* The Whole \"Being Dead\" Thing from Alex Brightman\n",
      "* Freedom from Anthony Ramos\n",
      "* How Far I'll Go - From \"Moana\"/Soundtrack Version from Auli'i Cravalho\n",
      "* (Fuck A) Silver Lining from Panic! At The Disco\n",
      "* Share Your Address from Ben Platt\n"
     ]
    }
   ],
   "source": [
    "tid = 'spotify:track:4TTV7EcfroSLWzXRY6gLv6'\n",
    "\n",
    "start = time.time()\n",
    "recs = sp.recommendations(seed_tracks = [tid])\n",
    "\n",
    "print(\"Query song: {} from {}\".format(sp.track(tid)[\"name\"], sp.track(tid)[\"artists\"][0][\"name\"]))\n",
    "print(\"~~~Recommendations~~~\")\n",
    "for song in recs[\"tracks\"]:\n",
    "    print(\"* {} from {}\".format(song[\"name\"], song[\"artists\"][0][\"name\"]))"
   ]
  },
  {
   "cell_type": "markdown",
   "id": "30dfaac5",
   "metadata": {},
   "source": [
    "## 2. Use case: Toy recommender for music in 2018"
   ]
  },
  {
   "cell_type": "markdown",
   "id": "32c16cff",
   "metadata": {},
   "source": [
    "We will recommend songs with higher cosine similarity between features"
   ]
  },
  {
   "cell_type": "code",
   "execution_count": 14,
   "id": "77db0676",
   "metadata": {},
   "outputs": [],
   "source": [
    "feature_names = ['danceability', 'energy', 'key', 'loudness', 'mode', 'speechiness', 'acousticness', 'instrumentalness', 'liveness', 'valence', 'tempo']"
   ]
  },
  {
   "cell_type": "code",
   "execution_count": 15,
   "id": "318fb2f0",
   "metadata": {},
   "outputs": [
    {
     "name": "stderr",
     "output_type": "stream",
     "text": [
      "100%|██████████████████████████████████████████| 20/20 [00:03<00:00,  5.25it/s]\n"
     ]
    }
   ],
   "source": [
    "artist_name = []\n",
    "track_name = []\n",
    "popularity = []\n",
    "track_id = []\n",
    "for i in tqdm(range(0,1000,50)):\n",
    "    track_results = sp.search(q='year:2018', type='track', limit=50,offset=i)\n",
    "    for i, t in enumerate(track_results['tracks']['items']):\n",
    "        artist_name.append(t['artists'][0]['name'])\n",
    "        track_name.append(t['name'])\n",
    "        track_id.append(t['id'])\n",
    "        popularity.append(t['popularity'])"
   ]
  },
  {
   "cell_type": "code",
   "execution_count": 16,
   "id": "73f45b5e",
   "metadata": {},
   "outputs": [],
   "source": [
    "features = []\n",
    "LOAD = True\n",
    "if LOAD:\n",
    "    features = np.load(\"2018_tracks.npy\", allow_pickle = True)\n",
    "else:\n",
    "    for tid in tqdm(track_id):\n",
    "        features.append([sp.audio_features(tracks = tid)[0][feature] for feature in feature_names])\n",
    "    features = np.array(features)\n",
    "    features.dump(\"2018_tracks.npy\")"
   ]
  },
  {
   "cell_type": "markdown",
   "id": "b8d1e727",
   "metadata": {},
   "source": [
    "Recommed the song with lower euclidean distance to the query song"
   ]
  },
  {
   "cell_type": "code",
   "execution_count": 17,
   "id": "5453f510",
   "metadata": {},
   "outputs": [
    {
     "name": "stdout",
     "output_type": "stream",
     "text": [
      "Query song: Tusa from KAROL G\n"
     ]
    }
   ],
   "source": [
    "q = '7k4t7uLgtOxPwTpFmtJNTY'\n",
    "print(\"Query song: {} from {}\".format(sp.track(q)[\"name\"], sp.track(q)[\"artists\"][0][\"name\"]))\n",
    "q_features = np.array([sp.audio_features(tracks = q)[0][feature] for feature in feature_names])"
   ]
  },
  {
   "cell_type": "code",
   "execution_count": 18,
   "id": "235372d7",
   "metadata": {},
   "outputs": [
    {
     "name": "stdout",
     "output_type": "stream",
     "text": [
      "~~~Recommendations~~~\n",
      "* Qué Tienes Tú (feat. Jesús de Reik & Mau y Ricky) from Dvicio\n",
      "* One Night Animal from AAA\n",
      "* Muevelo from Lirico En La Casa\n",
      "* LIFE from AAA\n",
      "* Hipócrita from Anuel AA\n",
      "* Bambino from Recycled J\n",
      "* Dinero from Trinidad Cardona\n",
      "* Havana (feat. Young Thug) from Camila Cabello\n",
      "* Acteurs - Remasterisé en 2018 from Octobre\n",
      "* Wake Me Up from Reach\n"
     ]
    }
   ],
   "source": [
    "from sklearn.metrics.pairwise import cosine_similarity\n",
    "similarities = cosine_similarity(features , q_features.reshape(1, -1)).flatten()\n",
    "similarities = np.argsort(similarities)[::-1]\n",
    "print(\"~~~Recommendations~~~\")\n",
    "for idx in similarities[:10]:\n",
    "    print(\"* {} from {}\".format(track_name[idx], artist_name[idx]))\n",
    "    "
   ]
  },
  {
   "cell_type": "code",
   "execution_count": null,
   "id": "3717e8d8",
   "metadata": {},
   "outputs": [],
   "source": []
  }
 ],
 "metadata": {
  "kernelspec": {
   "display_name": "Python 3 (ipykernel)",
   "language": "python",
   "name": "python3"
  },
  "language_info": {
   "codemirror_mode": {
    "name": "ipython",
    "version": 3
   },
   "file_extension": ".py",
   "mimetype": "text/x-python",
   "name": "python",
   "nbconvert_exporter": "python",
   "pygments_lexer": "ipython3",
   "version": "3.9.6"
  }
 },
 "nbformat": 4,
 "nbformat_minor": 5
}
